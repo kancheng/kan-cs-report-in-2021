{
 "cells": [
  {
   "cell_type": "markdown",
   "id": "7a682ff2",
   "metadata": {},
   "source": [
    "# 矩陣求導 $y = ||XW + b ||^2_F $; "
   ]
  },
  {
   "cell_type": "code",
   "execution_count": 1,
   "id": "5c2d4a31",
   "metadata": {},
   "outputs": [
    {
     "name": "stdout",
     "output_type": "stream",
     "text": [
      "tensor([[-1.1258, -1.1524, -0.2506, -0.4339],\n",
      "        [ 0.8487,  0.6920, -0.3160, -2.1152],\n",
      "        [ 0.3223, -1.2633,  0.3500,  0.3081],\n",
      "        [ 0.1198,  1.2377,  1.1168, -0.2473],\n",
      "        [-1.3527, -1.6959,  0.5667,  0.7935],\n",
      "        [ 0.5988, -1.5551, -0.3414,  1.8530],\n",
      "        [-0.2159, -0.7425,  0.5627,  0.2596],\n",
      "        [-0.1740, -0.6787,  0.9383,  0.4889],\n",
      "        [ 1.2032,  0.0845, -1.2001, -0.0048],\n",
      "        [-0.5181, -0.3067, -1.5810,  1.7066]], requires_grad=True)\n",
      "tensor([[ 0.2055, -0.4503, -0.5731, -0.5554],\n",
      "        [ 0.5943,  1.5419,  0.5073, -0.5910],\n",
      "        [-1.3253,  0.1886, -0.0691, -0.4949],\n",
      "        [-1.4959, -0.1938,  0.4455,  1.3253]], requires_grad=True)\n",
      "tensor([[ 1.5091,  2.0820,  1.7067,  2.3804],\n",
      "        [-1.1256, -0.3170, -1.0925, -0.0852],\n",
      "        [ 0.3276, -0.7607, -1.5991,  0.0185],\n",
      "        [-0.7504,  0.1854,  0.6211,  0.6382],\n",
      "        [-0.0033, -0.5344,  1.1687,  0.3945],\n",
      "        [ 1.9415,  0.7915, -0.0203, -0.4372],\n",
      "        [-0.2188, -2.4351, -0.0729, -0.0340],\n",
      "        [ 0.9625,  0.3492, -0.9215, -0.0562],\n",
      "        [-0.6227, -0.4637,  1.9218, -0.4025],\n",
      "        [ 0.1239,  1.1648,  0.9234,  1.3873]], requires_grad=True)\n",
      "tensor(162.5566, grad_fn=<SumBackward0>)\n"
     ]
    }
   ],
   "source": [
    "import torch\n",
    "torch.manual_seed(0)\n",
    "x = torch.randn( 10, 4, requires_grad=True)\n",
    "w = torch.randn( 4, 4, requires_grad=True)\n",
    "b = torch.randn( 10, 4, requires_grad=True)\n",
    "print(x)\n",
    "print(w)\n",
    "print(b)\n",
    "y = (x.mm(w) + b).pow(2).sum()\n",
    "# y.requires_grad_(True)\n",
    "print(y)"
   ]
  },
  {
   "cell_type": "code",
   "execution_count": 2,
   "id": "2651dd5a",
   "metadata": {},
   "outputs": [
    {
     "name": "stdout",
     "output_type": "stream",
     "text": [
      "tensor([[ -5.5354,   2.2788,  -7.2747,   4.9560],\n",
      "        [  7.0786,   7.9225,  -3.9229, -20.8719],\n",
      "        [  3.7750, -13.6215,   1.8300,   5.0560],\n",
      "        [ -2.5051,   8.0172,   4.6761,   0.5287],\n",
      "        [ -3.8409, -13.8474,   4.4959,  19.6415],\n",
      "        [ -1.1472, -12.0802,  -0.4455,  11.5021],\n",
      "        [  1.9607, -13.7048,   3.0314,   8.1723],\n",
      "        [  0.3539,  -5.1480,   3.1660,   5.3047],\n",
      "        [  0.5524,   0.1245,  -3.4478,  -3.5855],\n",
      "        [ -8.1827,  -3.6565,  -3.3562,  16.4601]])\n",
      "tensor([[ 12.8560,   0.9793, -10.9075, -24.5453],\n",
      "        [ 21.0108,  33.3000,  -1.3519, -40.4582],\n",
      "        [-14.7987,  -2.2609,  -8.6005, -12.0511],\n",
      "        [-28.4880, -20.5779,  12.3552,  46.0581]])\n",
      "tensor([[ 3.1480,  1.6979,  3.1826,  6.4714],\n",
      "        [ 6.0862,  1.4365, -4.2966, -7.2248],\n",
      "        [-2.5635, -5.6951, -4.6232,  1.6427],\n",
      "        [-2.2008,  4.5967,  1.9861, -2.0806],\n",
      "        [-6.4545, -5.1746,  2.7957,  5.8385],\n",
      "        [-2.3584, -4.5992, -0.6065,  5.5481],\n",
      "        [-3.6774, -6.8541, -0.4983,  1.1807],\n",
      "        [-2.9029, -1.0739, -2.0263,  1.2502],\n",
      "        [ 2.5451, -2.2012,  2.7118, -1.0662],\n",
      "        [-1.2450,  0.5925,  3.8684,  9.8011]])\n"
     ]
    }
   ],
   "source": [
    "y.backward()\n",
    "print(x.grad)\n",
    "print(w.grad)\n",
    "print(b.grad)"
   ]
  },
  {
   "cell_type": "markdown",
   "id": "7337132f",
   "metadata": {},
   "source": [
    "# Practice"
   ]
  },
  {
   "cell_type": "code",
   "execution_count": 3,
   "id": "f583b002",
   "metadata": {},
   "outputs": [
    {
     "name": "stdout",
     "output_type": "stream",
     "text": [
      "tensor([2.], requires_grad=True)\n",
      "tensor([1.], requires_grad=True)\n",
      "tensor([3.], requires_grad=True)\n",
      "tensor([10.])\n",
      "tensor([20.])\n",
      "tensor([10.])\n"
     ]
    }
   ],
   "source": [
    "x = torch.tensor([1.], requires_grad=True)\n",
    "w = torch.tensor([2.], requires_grad=True)\n",
    "b = torch.tensor([3.], requires_grad=True)\n",
    "y = (w*x + b).pow(2)\n",
    "y.backward()\n",
    "print(w)\n",
    "print(x)\n",
    "print(b)\n",
    "print(w.grad)\n",
    "print(x.grad)\n",
    "print(b.grad)"
   ]
  },
  {
   "cell_type": "code",
   "execution_count": 4,
   "id": "66605e71",
   "metadata": {},
   "outputs": [
    {
     "name": "stdout",
     "output_type": "stream",
     "text": [
      "tensor([11.])\n",
      "tensor([22.])\n",
      "tensor([11.])\n"
     ]
    }
   ],
   "source": [
    "y = w*x + b\n",
    "y.backward()\n",
    "print(w.grad)\n",
    "print(x.grad)\n",
    "print(b.grad)\n"
   ]
  },
  {
   "cell_type": "code",
   "execution_count": 5,
   "id": "4da38b4e",
   "metadata": {},
   "outputs": [
    {
     "name": "stdout",
     "output_type": "stream",
     "text": [
      "tensor([1.])\n",
      "tensor([2.])\n",
      "tensor([1.])\n"
     ]
    }
   ],
   "source": [
    "y = w*x + b\n",
    "w.grad.zero_()\n",
    "x.grad.zero_()\n",
    "b.grad.zero_()\n",
    "y.backward()\n",
    "print(w.grad)\n",
    "print(x.grad)\n",
    "print(b.grad)"
   ]
  },
  {
   "cell_type": "code",
   "execution_count": 6,
   "id": "5cc2f3ef",
   "metadata": {},
   "outputs": [],
   "source": [
    "# Kan Horst "
   ]
  },
  {
   "cell_type": "code",
   "execution_count": null,
   "id": "ab3adf14",
   "metadata": {},
   "outputs": [],
   "source": []
  }
 ],
 "metadata": {
  "kernelspec": {
   "display_name": "Python 3 (ipykernel)",
   "language": "python",
   "name": "python3"
  },
  "language_info": {
   "codemirror_mode": {
    "name": "ipython",
    "version": 3
   },
   "file_extension": ".py",
   "mimetype": "text/x-python",
   "name": "python",
   "nbconvert_exporter": "python",
   "pygments_lexer": "ipython3",
   "version": "3.8.11"
  }
 },
 "nbformat": 4,
 "nbformat_minor": 5
}
