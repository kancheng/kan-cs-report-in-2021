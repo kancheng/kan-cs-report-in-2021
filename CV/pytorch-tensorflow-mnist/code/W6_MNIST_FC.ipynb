{
 "cells": [
  {
   "cell_type": "code",
   "execution_count": 2,
   "metadata": {},
   "outputs": [
    {
     "name": "stdout",
     "output_type": "stream",
     "text": [
      "torch.Size([60000, 28, 28])\n",
      "####\n",
      "<class 'torchvision.datasets.mnist.MNIST'>\n",
      "####\n",
      "Dataset MNIST\n",
      "    Number of datapoints: 10000\n",
      "    Root location: ./mnist/\n",
      "    Split: Test\n",
      "####\n",
      "tensor([5, 0, 4,  ..., 5, 6, 8])\n",
      "####\n",
      "torch.Size([60000, 1, 28, 28])\n"
     ]
    }
   ],
   "source": [
    "import torch\n",
    "import torch.nn as nn\n",
    "import torch.utils.data as Data\n",
    "import torchvision\n",
    "import torch.nn.functional as F\n",
    "import numpy as np\n",
    "\n",
    "# torch.manual_seed(1)\n",
    "\n",
    "EPOCH = 2\n",
    "LR = 0.001\n",
    "DOWNLOAD_MNIST = True\n",
    "\n",
    "train_data = torchvision.datasets.MNIST(root='./mnist/', train=True, transform=torchvision.transforms.ToTensor(),\n",
    "                                        download=DOWNLOAD_MNIST, )\n",
    "test_data = torchvision.datasets.MNIST(root='./mnist/', train=False)\n",
    "\n",
    "print(train_data.data.shape)\n",
    "print(\"####\")\n",
    "print(type(train_data))\n",
    "print(\"####\")\n",
    "print(test_data)\n",
    "print(\"####\")\n",
    "print(train_data.targets)\n",
    "print(\"####\")\n",
    "\n",
    "train_x = torch.unsqueeze(train_data.data, dim=1).type(torch.FloatTensor) / 255.\n",
    "train_y = train_data.targets\n",
    "print(train_x.shape)\n",
    "\n",
    "test_x = torch.unsqueeze(test_data.data, dim=1).type(torch.FloatTensor)[:2000] / 255.  # Tensor on GPU\n",
    "test_y = test_data.targets[:2000]\n",
    "\n",
    "# warning\n",
    "# train_x = torch.unsqueeze(train_data.train_data, dim=1).type(torch.FloatTensor) / 255.\n",
    "# train_y = train_data.train_labels\n",
    "# print(train_x.shape)\n",
    "\n",
    "# test_x = torch.unsqueeze(test_data.test_data, dim=1).type(torch.FloatTensor)[:2000] / 255.  # Tensor on GPU\n",
    "# test_y = test_data.test_labels[:2000]\n",
    "\n",
    "# /Users/kancheng/opt/anaconda3/envs/pytorch-init/lib/python3.8/site-packages/torchvision/datasets/mnist.py:498: \n",
    "# UserWarning: The given NumPy array is not writeable, and PyTorch does not support non-writeable tensors. \n",
    "# This means you can write to the underlying (supposedly non-writeable) NumPy array using the tensor. \n",
    "# You may want to copy the array to protect its data or make it writeable before converting it to a tensor. \n",
    "# This type of warning will be suppressed for the rest of this program. \n",
    "# (Triggered internally at  \n",
    "# /Users/distiller/project/conda/conda-bld/pytorch_1631631227379/work/torch/csrc/utils/tensor_numpy.cpp:180.)\n",
    "#  return torch.from_numpy(parsed.astype(m[2], copy=False)).view(*s)\n",
    "# https://github.com/huggingface/datasets/issues/616"
   ]
  },
  {
   "cell_type": "code",
   "execution_count": 3,
   "metadata": {},
   "outputs": [
    {
     "data": {
      "text/plain": [
       "torch.Size([2000, 1, 28, 28])"
      ]
     },
     "execution_count": 3,
     "metadata": {},
     "output_type": "execute_result"
    }
   ],
   "source": [
    "test_x.shape"
   ]
  },
  {
   "cell_type": "code",
   "execution_count": 4,
   "metadata": {},
   "outputs": [],
   "source": [
    "import matplotlib.pyplot as plt"
   ]
  },
  {
   "cell_type": "code",
   "execution_count": 5,
   "metadata": {},
   "outputs": [
    {
     "data": {
      "text/plain": [
       "<matplotlib.image.AxesImage at 0x7faa0e319790>"
      ]
     },
     "execution_count": 5,
     "metadata": {},
     "output_type": "execute_result"
    },
    {
     "data": {
      "image/png": "[encoded data removed]",
      "text/plain": [
       "<Figure size 432x288 with 1 Axes>"
      ]
     },
     "metadata": {
      "needs_background": "light"
     },
     "output_type": "display_data"
    }
   ],
   "source": [
    "plt.imshow(test_x[1,0,:,:].numpy(), 'gray')"
   ]
  },
  {
   "cell_type": "code",
   "execution_count": 6,
   "metadata": {},
   "outputs": [
    {
     "data": {
      "text/plain": [
       "tensor([7, 2, 1, 0, 4, 1, 4, 9, 5, 9])"
      ]
     },
     "execution_count": 6,
     "metadata": {},
     "output_type": "execute_result"
    }
   ],
   "source": [
    "test_y[:10]"
   ]
  },
  {
   "cell_type": "code",
   "execution_count": 7,
   "metadata": {},
   "outputs": [
    {
     "name": "stdout",
     "output_type": "stream",
     "text": [
      "Epoch:  0 | train loss: 2.3031 | test accuracy: 0.206\n",
      "Epoch:  0 | train loss: 1.5719 | test accuracy: 0.566\n",
      "Epoch:  0 | train loss: 0.8695 | test accuracy: 0.760\n",
      "Epoch:  0 | train loss: 0.7395 | test accuracy: 0.811\n",
      "Epoch:  0 | train loss: 0.4410 | test accuracy: 0.819\n",
      "Epoch:  0 | train loss: 0.4334 | test accuracy: 0.845\n",
      "Epoch:  0 | train loss: 0.3815 | test accuracy: 0.866\n",
      "Epoch:  0 | train loss: 0.3506 | test accuracy: 0.860\n",
      "Epoch:  1 | train loss: 0.3170 | test accuracy: 0.867\n",
      "Epoch:  1 | train loss: 0.3806 | test accuracy: 0.883\n",
      "Epoch:  1 | train loss: 0.5014 | test accuracy: 0.899\n",
      "Epoch:  1 | train loss: 0.2266 | test accuracy: 0.887\n",
      "Epoch:  1 | train loss: 0.1690 | test accuracy: 0.905\n",
      "Epoch:  1 | train loss: 0.2221 | test accuracy: 0.905\n",
      "Epoch:  1 | train loss: 0.5117 | test accuracy: 0.904\n",
      "Epoch:  1 | train loss: 0.0755 | test accuracy: 0.914\n",
      "tensor([7, 2, 1, 0, 4, 1, 4, 9, 6, 9]) prediction number\n",
      "tensor([7, 2, 1, 0, 4, 1, 4, 9, 5, 9]) real number\n"
     ]
    }
   ],
   "source": [
    "class FC(nn.Module):\n",
    "    def __init__(self):\n",
    "        super(FC, self).__init__()\n",
    "        self.fc1 = nn.Linear(784, 256)\n",
    "        self.fc2 = nn.Linear(256, 10)\n",
    "        self.fc3 = nn.Linear(10, 10)\n",
    "\n",
    "    def forward(self, x):\n",
    "        x = x.view(x.size(0), -1)\n",
    "        x = self.fc1(x)\n",
    "        x = F.relu(x)\n",
    "        x = self.fc2(x)\n",
    "        x = F.relu(x)\n",
    "        x = self.fc3(x)\n",
    "\n",
    "        output = x\n",
    "        return output\n",
    "\n",
    "\n",
    "fc = FC()\n",
    "\n",
    "optimizer = torch.optim.Adam(fc.parameters(), lr=LR)\n",
    "# loss_func = nn.MSELoss()\n",
    "loss_func = nn.CrossEntropyLoss()\n",
    "\n",
    "data_size = 20000\n",
    "batch_size = 50\n",
    "\n",
    "for epoch in range(EPOCH):\n",
    "    random_indx = np.random.permutation(data_size)\n",
    "    for batch_i in range(data_size // batch_size):\n",
    "        indx = random_indx[batch_i * batch_size:(batch_i + 1) * batch_size]\n",
    "\n",
    "        b_x = train_x[indx, :]\n",
    "        b_y = train_y[indx]\n",
    "#         print(b_x.shape)\n",
    "#         print(b_y.shape)\n",
    "\n",
    "        output = fc(b_x)\n",
    "        loss = loss_func(output, b_y)\n",
    "\n",
    "        loss.backward()\n",
    "        optimizer.step()\n",
    "        optimizer.zero_grad()\n",
    "\n",
    "        if batch_i % 50 == 0:\n",
    "            test_output = fc(test_x)\n",
    "            pred_y = torch.max(test_output, 1)[1].data.squeeze()\n",
    "            # pred_y = torch.max(test_output, 1)[1].data.squeeze()\n",
    "            accuracy = torch.sum(pred_y == test_y).type(torch.FloatTensor) / test_y.size(0)\n",
    "            print('Epoch: ', epoch, '| train loss: %.4f' % loss.data.cpu().numpy(), '| test accuracy: %.3f' % accuracy)\n",
    "\n",
    "test_output = fc(test_x[:10])\n",
    "pred_y = torch.max(test_output, 1)[1].data.squeeze()  # move the computation in GPU\n",
    "\n",
    "print(pred_y, 'prediction number')\n",
    "print(test_y[:10], 'real number')"
   ]
  },
  {
   "cell_type": "code",
   "execution_count": 8,
   "metadata": {},
   "outputs": [
    {
     "name": "stdout",
     "output_type": "stream",
     "text": [
      "tensor(7) prediction number\n",
      "tensor([7]) real number\n"
     ]
    }
   ],
   "source": [
    "test_output = fc(test_x[:1])\n",
    "pred_y = torch.max(test_output, 1)[1].data.squeeze()  # move the computation in GPU\n",
    "\n",
    "print(pred_y, 'prediction number')\n",
    "print(test_y[:1], 'real number')"
   ]
  },
  {
   "cell_type": "code",
   "execution_count": 9,
   "metadata": {},
   "outputs": [
    {
     "data": {
      "text/plain": [
       "tensor([[ -7.0378,   1.1438,  -1.2247,   1.5223, -10.8661,  -4.7178, -13.1209,\n",
       "           6.9689,  -5.4211,  -0.9974]], grad_fn=<AddmmBackward>)"
      ]
     },
     "execution_count": 9,
     "metadata": {},
     "output_type": "execute_result"
    }
   ],
   "source": [
    "test_output"
   ]
  },
  {
   "cell_type": "code",
   "execution_count": 10,
   "metadata": {},
   "outputs": [
    {
     "data": {
      "text/plain": [
       "torch.Size([1, 1, 28, 28])"
      ]
     },
     "execution_count": 10,
     "metadata": {},
     "output_type": "execute_result"
    }
   ],
   "source": [
    "test_x[:1].shape"
   ]
  },
  {
   "cell_type": "code",
   "execution_count": 11,
   "metadata": {},
   "outputs": [
    {
     "data": {
      "text/plain": [
       "<matplotlib.image.AxesImage at 0x7faa0e392e50>"
      ]
     },
     "execution_count": 11,
     "metadata": {},
     "output_type": "execute_result"
    },
    {
     "data": {
      "image/png": "[encoded data removed]",
      "text/plain": [
       "<Figure size 432x288 with 1 Axes>"
      ]
     },
     "metadata": {
      "needs_background": "light"
     },
     "output_type": "display_data"
    }
   ],
   "source": [
    "plt.imshow(test_x[:1].numpy().squeeze(), 'gray')"
   ]
  },
  {
   "cell_type": "code",
   "execution_count": 12,
   "metadata": {},
   "outputs": [
    {
     "data": {
      "text/plain": [
       "(0, 1, 2, Ellipsis, 9)"
      ]
     },
     "execution_count": 12,
     "metadata": {},
     "output_type": "execute_result"
    }
   ],
   "source": [
    "import torch\n",
    "torch.eye(10)\n",
    "0, 1, 2, ..., 9 "
   ]
  },
  {
   "cell_type": "code",
   "execution_count": 13,
   "metadata": {},
   "outputs": [],
   "source": [
    "# Kan Horst"
   ]
  },
  {
   "cell_type": "code",
   "execution_count": null,
   "metadata": {},
   "outputs": [],
   "source": []
  }
 ],
 "metadata": {
  "kernelspec": {
   "display_name": "Python 3 (ipykernel)",
   "language": "python",
   "name": "python3"
  },
  "language_info": {
   "codemirror_mode": {
    "name": "ipython",
    "version": 3
   },
   "file_extension": ".py",
   "mimetype": "text/x-python",
   "name": "python",
   "nbconvert_exporter": "python",
   "pygments_lexer": "ipython3",
   "version": "3.8.11"
  }
 },
 "nbformat": 4,
 "nbformat_minor": 4
}
