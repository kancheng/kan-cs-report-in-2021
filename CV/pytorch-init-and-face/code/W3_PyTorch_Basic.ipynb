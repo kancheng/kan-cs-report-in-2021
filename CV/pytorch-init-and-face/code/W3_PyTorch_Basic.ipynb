{
 "cells": [
  {
   "cell_type": "code",
   "execution_count": 1,
   "metadata": {},
   "outputs": [
    {
     "name": "stdout",
     "output_type": "stream",
     "text": [
      "1.9.1\n"
     ]
    }
   ],
   "source": [
    "import torch\n",
    "print(torch.__version__)"
   ]
  },
  {
   "cell_type": "code",
   "execution_count": null,
   "metadata": {},
   "outputs": [],
   "source": []
  },
  {
   "cell_type": "markdown",
   "metadata": {},
   "source": [
    "### 自动求导机制"
   ]
  },
  {
   "cell_type": "code",
   "execution_count": 2,
   "metadata": {},
   "outputs": [
    {
     "name": "stdout",
     "output_type": "stream",
     "text": [
      "tensor([[-1.1258],\n",
      "        [-0.5773],\n",
      "        [-0.1061],\n",
      "        [-0.9505]], requires_grad=True)\n",
      "tensor([[-3.1289],\n",
      "        [ 0.5473],\n",
      "        [-1.8960],\n",
      "        [ 0.6313]], requires_grad=True)\n",
      "tensor([[ 0.2428,  0.5767,  0.4123,  1.7777],\n",
      "        [ 0.0687,  1.0518,  0.2852, -1.0909],\n",
      "        [-0.2580,  0.0690, -0.0691, -2.1543],\n",
      "        [-1.8731,  1.9711,  1.7972, -0.8069]])\n"
     ]
    }
   ],
   "source": [
    "x = torch.randn(4,1, requires_grad=True)\n",
    "y = torch.randn(4,1, requires_grad=True)\n",
    "W = torch.randn(4,4)\n",
    "print(x)\n",
    "print(y)\n",
    "print(W)"
   ]
  },
  {
   "cell_type": "code",
   "execution_count": 3,
   "metadata": {},
   "outputs": [
    {
     "name": "stdout",
     "output_type": "stream",
     "text": [
      "tensor([[-2.2146]], grad_fn=<MmBackward>)\n"
     ]
    }
   ],
   "source": [
    "z = torch.mm(torch.mm(torch.t(x), W),y)\n",
    "print(z)"
   ]
  },
  {
   "cell_type": "code",
   "execution_count": 4,
   "metadata": {},
   "outputs": [
    {
     "name": "stdout",
     "output_type": "stream",
     "text": [
      "tensor([[2.2146]], grad_fn=<AbsBackward>)\n"
     ]
    }
   ],
   "source": [
    "z = x.t().mm(W).mm(y).abs()\n",
    "print(z)"
   ]
  },
  {
   "cell_type": "code",
   "execution_count": 5,
   "metadata": {},
   "outputs": [
    {
     "name": "stdout",
     "output_type": "stream",
     "text": [
      "None\n"
     ]
    }
   ],
   "source": [
    "print(x.grad)"
   ]
  },
  {
   "cell_type": "code",
   "execution_count": 6,
   "metadata": {},
   "outputs": [],
   "source": [
    "z.backward()"
   ]
  },
  {
   "cell_type": "code",
   "execution_count": 7,
   "metadata": {},
   "outputs": [
    {
     "name": "stdout",
     "output_type": "stream",
     "text": [
      "tensor([[ 0.1033],\n",
      "        [ 0.8686],\n",
      "        [ 0.3841],\n",
      "        [-3.0227]])\n"
     ]
    }
   ],
   "source": [
    "print(x.grad)"
   ]
  },
  {
   "cell_type": "code",
   "execution_count": 8,
   "metadata": {},
   "outputs": [
    {
     "name": "stdout",
     "output_type": "stream",
     "text": [
      "tensor([[-0.1033],\n",
      "        [-0.8686],\n",
      "        [-0.3841],\n",
      "        [ 3.0227]], grad_fn=<MmBackward>)\n"
     ]
    }
   ],
   "source": [
    "print(W.mm(y))"
   ]
  },
  {
   "cell_type": "code",
   "execution_count": null,
   "metadata": {},
   "outputs": [],
   "source": []
  },
  {
   "cell_type": "code",
   "execution_count": null,
   "metadata": {},
   "outputs": [],
   "source": []
  },
  {
   "cell_type": "markdown",
   "metadata": {},
   "source": [
    "### 默认情况下，定义的tensor属性requires_grad为false"
   ]
  },
  {
   "cell_type": "code",
   "execution_count": 9,
   "metadata": {},
   "outputs": [
    {
     "name": "stdout",
     "output_type": "stream",
     "text": [
      "tensor([[ 0.4440],\n",
      "        [ 2.2153],\n",
      "        [ 0.9607],\n",
      "        [-0.7670]])\n"
     ]
    }
   ],
   "source": [
    "x = torch.randn(4,1)\n",
    "print(x)\n",
    "y = torch.mm(torch.t(x),x)\n",
    "#  requires_grad=True\n",
    "y.requires_grad = True\n",
    "y.backward()"
   ]
  },
  {
   "cell_type": "code",
   "execution_count": 10,
   "metadata": {},
   "outputs": [
    {
     "name": "stdout",
     "output_type": "stream",
     "text": [
      "tensor([[6.6161]], requires_grad=True)\n",
      "None\n",
      "tensor([[ 0.8879],\n",
      "        [ 4.4307],\n",
      "        [ 1.9215],\n",
      "        [-1.5341]])\n"
     ]
    }
   ],
   "source": [
    "print(y)\n",
    "\n",
    "print(x.grad)\n",
    "\n",
    "print(2*x)"
   ]
  },
  {
   "cell_type": "markdown",
   "metadata": {},
   "source": [
    "### PyTorch Tensor 与 Numpy 转换"
   ]
  },
  {
   "cell_type": "code",
   "execution_count": 11,
   "metadata": {},
   "outputs": [
    {
     "name": "stdout",
     "output_type": "stream",
     "text": [
      "[[-0.89046738 -1.33144818  0.58736942  0.12961395]\n",
      " [-0.66517408 -0.49432405 -0.07731219  0.95735545]\n",
      " [ 0.49108709 -0.51189006  2.32828968  1.75018753]]\n",
      "<class 'numpy.ndarray'>\n"
     ]
    }
   ],
   "source": [
    "import numpy as np\n",
    "import torch\n",
    "\n",
    "a = np.random.randn(3,4)\n",
    "print(a)\n",
    "print(type(a))"
   ]
  },
  {
   "cell_type": "code",
   "execution_count": 12,
   "metadata": {},
   "outputs": [
    {
     "name": "stdout",
     "output_type": "stream",
     "text": [
      "tensor([[-0.8905, -1.3314,  0.5874,  0.1296],\n",
      "        [-0.6652, -0.4943, -0.0773,  0.9574],\n",
      "        [ 0.4911, -0.5119,  2.3283,  1.7502]], dtype=torch.float64)\n",
      "<class 'torch.Tensor'>\n"
     ]
    }
   ],
   "source": [
    "a_tensor = torch.from_numpy(a)\n",
    "print(a_tensor)\n",
    "print(type(a_tensor))"
   ]
  },
  {
   "cell_type": "code",
   "execution_count": 13,
   "metadata": {},
   "outputs": [
    {
     "name": "stdout",
     "output_type": "stream",
     "text": [
      "[[-0.89046738 -1.33144818  0.58736942  0.12961395]\n",
      " [-0.66517408 -0.49432405 -0.07731219  0.95735545]\n",
      " [ 0.49108709 -0.51189006  2.32828968  1.75018753]]\n",
      "<class 'numpy.ndarray'>\n"
     ]
    }
   ],
   "source": [
    "b = a_tensor.numpy()\n",
    "print(b)\n",
    "print(type(b))"
   ]
  },
  {
   "cell_type": "code",
   "execution_count": 14,
   "metadata": {},
   "outputs": [
    {
     "name": "stdout",
     "output_type": "stream",
     "text": [
      "[[ 0.2963589   2.5849059   0.5525259  -0.9820206 ]\n",
      " [ 0.6916591  -0.39802215 -0.34922287  0.69784075]\n",
      " [ 0.49665242  0.1621982   0.8358983   0.07762461]]\n",
      "<class 'numpy.ndarray'>\n"
     ]
    }
   ],
   "source": [
    "d_tensor = torch.randn(3, 4, requires_grad=False)\n",
    "d_numpy = d_tensor.numpy()\n",
    "print(d_numpy)\n",
    "print(type(d_numpy))"
   ]
  },
  {
   "cell_type": "code",
   "execution_count": 15,
   "metadata": {},
   "outputs": [
    {
     "name": "stdout",
     "output_type": "stream",
     "text": [
      "tensor([[ 0.7342,  0.3885, -0.3788,  0.1474],\n",
      "        [ 0.4050, -0.0277, -1.8610,  0.1441],\n",
      "        [ 1.0670, -0.0192,  0.7793, -0.2527]], requires_grad=True)\n",
      "[[ 0.73417985  0.38852325 -0.37883264  0.14740653]\n",
      " [ 0.40495276 -0.02765906 -1.8610157   0.14414687]\n",
      " [ 1.0669876  -0.01918314  0.77927184 -0.25268313]]\n",
      "<class 'numpy.ndarray'>\n"
     ]
    }
   ],
   "source": [
    "d_tensor = torch.randn(3, 4, requires_grad=True)\n",
    "print(d_tensor)\n",
    "# d_numpy = d_tensor.numpy()\n",
    "d_numpy = d_tensor.detach().numpy()\n",
    "print(d_numpy)\n",
    "print(type(d_numpy))"
   ]
  },
  {
   "cell_type": "code",
   "execution_count": 16,
   "metadata": {},
   "outputs": [
    {
     "name": "stdout",
     "output_type": "stream",
     "text": [
      "[[-2.8518267  -1.0040312   0.6788978  -0.8308356 ]\n",
      " [-0.29047233 -1.2727869  -0.7147835   0.36596352]\n",
      " [ 1.0417142   0.04265385  0.69055223 -0.5379234 ]]\n",
      "tensor([[-2.8518, -1.0040,  0.6789, -0.8308],\n",
      "        [-0.2905, -1.2728, -0.7148,  0.3660],\n",
      "        [ 1.0417,  0.0427,  0.6906, -0.5379]])\n",
      "<class 'numpy.ndarray'>\n"
     ]
    }
   ],
   "source": [
    "d_tensor = torch.randn(3, 4, requires_grad=True)\n",
    "d_numpy = d_tensor.data.numpy()\n",
    "print(d_numpy)\n",
    "print(d_tensor.data)\n",
    "print(type(d_numpy))"
   ]
  },
  {
   "cell_type": "code",
   "execution_count": 17,
   "metadata": {},
   "outputs": [],
   "source": [
    "# Kan Horst - PKU - ⼲皓丞"
   ]
  }
 ],
 "metadata": {
  "kernelspec": {
   "display_name": "Python 3 (ipykernel)",
   "language": "python",
   "name": "python3"
  },
  "language_info": {
   "codemirror_mode": {
    "name": "ipython",
    "version": 3
   },
   "file_extension": ".py",
   "mimetype": "text/x-python",
   "name": "python",
   "nbconvert_exporter": "python",
   "pygments_lexer": "ipython3",
   "version": "3.8.11"
  }
 },
 "nbformat": 4,
 "nbformat_minor": 2
}
