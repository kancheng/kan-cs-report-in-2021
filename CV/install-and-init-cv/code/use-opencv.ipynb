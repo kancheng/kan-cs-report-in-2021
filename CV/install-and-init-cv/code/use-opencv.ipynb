{
 "cells": [
  {
   "cell_type": "code",
   "execution_count": 1,
   "id": "7576e4a0",
   "metadata": {},
   "outputs": [
    {
     "name": "stdout",
     "output_type": "stream",
     "text": [
      "Image Dimensions : (906, 1794, 3)\n"
     ]
    }
   ],
   "source": [
    "import cv2\n",
    "#read image\n",
    "img = cv2.imread('opencv-test/2.png')\n",
    "#print its shape\n",
    "print('Image Dimensions :', img.shape)"
   ]
  },
  {
   "cell_type": "code",
   "execution_count": null,
   "id": "3cc38c81",
   "metadata": {},
   "outputs": [],
   "source": [
    "import numpy as np\n",
    "import cv2\n",
    "\n",
    "# 找人臉\n",
    "face = cv2.CascadeClassifier('face/haarcascade_frontalface_default.xml')\n",
    "\n",
    "# 找眼睛\n",
    "eye = cv2.CascadeClassifier('face/haarcascade_eye.xml')\n",
    "\n",
    "# 攝像頭\n",
    "cap = cv2.VideoCapture(0)\n",
    "ok = True\n",
    "\n",
    "while ok:\n",
    "    # 讀取攝影機的頭像，ok 為判斷讀取成功\n",
    "    ok, img = cap.read()\n",
    "    # 轉換成灰度\n",
    "    gray = cv2.cvtColor(img, cv2.COLOR_BGR2GRAY)\n",
    "\n",
    "    # 人臉檢測\n",
    "    faces = face.detectMultiScale(\n",
    "        gray,     \n",
    "        scaleFactor=1.2,\n",
    "        minNeighbors=5,     \n",
    "        minSize=(32, 32)\n",
    "    )\n",
    "\n",
    "    # 在人臉上找眼睛\n",
    "    for (x, y, w, h) in faces:\n",
    "        fac_gray = gray[y: (y+h), x: (x+w)]\n",
    "        result = []\n",
    "        eyes = eye.detectMultiScale(fac_gray, 1.3, 2)\n",
    "\n",
    "        # 眼睛座標位置，相對座標轉絕對\n",
    "        for (ex, ey, ew, eh) in eyes:\n",
    "            result.append((x+ex, y+ey, ew, eh))\n",
    "\n",
    "    # 畫方框\n",
    "    for (x, y, w, h) in faces:\n",
    "        cv2.rectangle(img, (x, y), (x+w, y+h), (255, 0, 0), 2)\n",
    "\n",
    "    for (ex, ey, ew, eh) in result:\n",
    "        cv2.rectangle(img, (ex, ey), (ex+ew, ey+eh), (0, 255, 0), 2)\n",
    "\n",
    "    cv2.imshow('video', img)\n",
    "\n",
    "    k = cv2.waitKey(1)\n",
    "    if k == 27:    # press 'ESC' to quit\n",
    "        break\n",
    "\n",
    "cap.release()\n",
    "cv2.destroyAllWindows()"
   ]
  },
  {
   "cell_type": "code",
   "execution_count": null,
   "id": "6375eb65",
   "metadata": {},
   "outputs": [],
   "source": [
    "import numpy as np\n",
    "import cv2\n",
    "img_path = 'opencv-test/1.png'\n",
    "img = cv2.imread(img_path)\n",
    "if img is None:\n",
    "    print(\"ERROR\")\n",
    "    exit(1)\n",
    "gray = cv2.cvtColor(img, cv2.COLOR_BGR2GRAY)\n",
    "\n",
    "FaceCascade = cv2.CascadeClassifier('moface/haarcascade_frontalface_default.xml')\n",
    "\n",
    "faces = FaceCascade.detectMultiScale(\n",
    "    gray,\n",
    "    scaleFactor=1.1,\n",
    "    minNeighbors=5\n",
    ")\n",
    "\n",
    "for face in faces:\n",
    "    (x, y, w, h) = face\n",
    "    cv2.rectangle(img, (x, y), (x+w, y+h), (0, 255, 0), 4)\n",
    "cv2.namedWindow('Face',flags=cv2.WINDOW_NORMAL | cv2.WINDOW_KEEPRATIO | cv2.WINDOW_GUI_EXPANDED)\n",
    "cv2.imshow('Face', img)\n",
    "cv2.imwrite('output/o1.jpg', img)\n",
    "cv2.waitKey(0)\n",
    "cv2.destroyAllWindows()"
   ]
  },
  {
   "cell_type": "code",
   "execution_count": null,
   "id": "11b60e55",
   "metadata": {},
   "outputs": [],
   "source": []
  }
 ],
 "metadata": {
  "kernelspec": {
   "display_name": "Python 3 (ipykernel)",
   "language": "python",
   "name": "python3"
  },
  "language_info": {
   "codemirror_mode": {
    "name": "ipython",
    "version": 3
   },
   "file_extension": ".py",
   "mimetype": "text/x-python",
   "name": "python",
   "nbconvert_exporter": "python",
   "pygments_lexer": "ipython3",
   "version": "3.8.11"
  }
 },
 "nbformat": 4,
 "nbformat_minor": 5
}
