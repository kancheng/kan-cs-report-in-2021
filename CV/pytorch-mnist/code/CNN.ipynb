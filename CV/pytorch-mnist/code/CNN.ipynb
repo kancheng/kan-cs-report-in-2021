{
 "cells": [
  {
   "cell_type": "markdown",
   "metadata": {},
   "source": [
    "## 打印神经网络结构：\n",
    "### 以下两个网络功能一样，参数一样，但是print打印出来略有不同（主要打印__init__（）里的信息），稍微注意一下"
   ]
  },
  {
   "cell_type": "code",
   "execution_count": 4,
   "metadata": {},
   "outputs": [
    {
     "name": "stdout",
     "output_type": "stream",
     "text": [
      "CNN(\n",
      "  (conv1): Sequential(\n",
      "    (0): Conv2d(1, 16, kernel_size=(5, 5), stride=(1, 1), padding=(2, 2))\n",
      "    (1): ReLU()\n",
      "    (2): MaxPool2d(kernel_size=2, stride=2, padding=0, dilation=1, ceil_mode=False)\n",
      "  )\n",
      "  (conv2): Sequential(\n",
      "    (0): Conv2d(16, 32, kernel_size=(5, 5), stride=(1, 1), padding=(2, 2))\n",
      "    (1): ReLU()\n",
      "    (2): MaxPool2d(kernel_size=2, stride=2, padding=0, dilation=1, ceil_mode=False)\n",
      "  )\n",
      "  (out): Linear(in_features=1568, out_features=10, bias=True)\n",
      ")\n",
      "\n",
      "Parameter Info:\n",
      "conv1.0.weight : torch.Size([16, 1, 5, 5])\n",
      "conv1.0.bias : torch.Size([16])\n",
      "conv2.0.weight : torch.Size([32, 16, 5, 5])\n",
      "conv2.0.bias : torch.Size([32])\n",
      "out.weight : torch.Size([10, 1568])\n",
      "out.bias : torch.Size([10])\n"
     ]
    }
   ],
   "source": [
    "# Network 1 \n",
    "class CNN(nn.Module):\n",
    "    def __init__(self):\n",
    "        super(CNN, self).__init__()\n",
    "        self.conv1 = nn.Sequential(nn.Conv2d(in_channels=1, out_channels=16, kernel_size=5, stride=1, padding=2,),\n",
    "                                   nn.ReLU(), nn.MaxPool2d(kernel_size=2),)\n",
    "        self.conv2 = nn.Sequential(nn.Conv2d(16, 32, 5, 1, 2), nn.ReLU(), nn.MaxPool2d(2),)\n",
    "        self.out = nn.Linear(32 * 7 * 7, 10)\n",
    "\n",
    "    def forward(self, x):\n",
    "        x = self.conv1(x)\n",
    "        x = self.conv2(x)\n",
    "        x = x.view(x.size(0), -1)\n",
    "        \n",
    "        output = self.out(x)\n",
    "        return output\n",
    "\n",
    "cnn = CNN()\n",
    "print(cnn)\n",
    "\n",
    "print('\\nParameter Info:')\n",
    "for name, parameters in cnn.named_parameters():\n",
    "    print(name, ':', parameters.size())"
   ]
  },
  {
   "cell_type": "code",
   "execution_count": 5,
   "metadata": {},
   "outputs": [
    {
     "name": "stdout",
     "output_type": "stream",
     "text": [
      "CNN(\n",
      "  (conv1): Conv2d(1, 16, kernel_size=(5, 5), stride=(1, 1), padding=(2, 2))\n",
      "  (conv2): Conv2d(16, 32, kernel_size=(5, 5), stride=(1, 1), padding=(2, 2))\n",
      "  (out): Linear(in_features=1568, out_features=10, bias=True)\n",
      ")\n",
      "\n",
      "Parameter Info:\n",
      "conv1.weight : torch.Size([16, 1, 5, 5])\n",
      "conv1.bias : torch.Size([16])\n",
      "conv2.weight : torch.Size([32, 16, 5, 5])\n",
      "conv2.bias : torch.Size([32])\n",
      "out.weight : torch.Size([10, 1568])\n",
      "out.bias : torch.Size([10])\n"
     ]
    }
   ],
   "source": [
    "# Network 2\n",
    "\n",
    "class CNN(nn.Module):\n",
    "    def __init__(self):\n",
    "        super(CNN, self).__init__()\n",
    "        self.conv1 = nn.Conv2d(in_channels=1, out_channels=16, kernel_size=5, stride=1, padding=2)\n",
    "        self.conv2 = nn.Conv2d(16, 32, 5, 1, 2)\n",
    "        self.out = nn.Linear(32 * 7 * 7, 10)\n",
    "\n",
    "    def forward(self, x):\n",
    "        x = self.conv1(x)\n",
    "        x = F.relu(x)\n",
    "        x = F.max_pool2d(x, (2,2))\n",
    "        x = self.conv2(x)\n",
    "        x = F.relu(x)\n",
    "        x = F.max_pool2d(x, (2,2))\n",
    "        x = x.view(x.size(0), -1)\n",
    "       \n",
    "        output = self.out(x)\n",
    "        return output\n",
    "\n",
    "cnn = CNN()\n",
    "print(cnn)\n",
    "\n",
    "print('\\nParameter Info:')\n",
    "for name, parameters in cnn.named_parameters():\n",
    "    print(name, ':', parameters.size())"
   ]
  },
  {
   "cell_type": "markdown",
   "metadata": {},
   "source": [
    "## 动手理解卷积概念"
   ]
  },
  {
   "cell_type": "markdown",
   "metadata": {},
   "source": [
    "### 例子1：PyTorch卷积层实现"
   ]
  },
  {
   "cell_type": "code",
   "execution_count": 110,
   "metadata": {},
   "outputs": [
    {
     "name": "stdout",
     "output_type": "stream",
     "text": [
      "Size of Input is torch.Size([1, 1, 28, 28])\n",
      "Size of Conv1 Output is torch.Size([1, 5, 28, 28])\n",
      "The Number of Conv1 is 2 \n",
      "weight : torch.Size([5, 1, 3, 3])\n",
      "bias : torch.Size([5])\n"
     ]
    }
   ],
   "source": [
    "# Convolution Example 1:\n",
    "import torch.nn as nn\n",
    "input = torch.randn(1,1,28,28) # (BatchSize, NumChannels, Height, Width)\n",
    "conv1 = nn.Conv2d(in_channels=1, out_channels=5, kernel_size=3, padding=1, stride=1, bias=True)\n",
    "output_conv1 = conv1(input)\n",
    "\n",
    "print(\"Size of Input is\", input.shape)\n",
    "print(\"Size of Conv1 Output is\",output_conv1.shape)\n",
    "\n",
    "params = list(conv1.parameters())\n",
    "print(\"Parameter Number of Conv1 is %d \" % len(params))\n",
    "\n",
    "for name, parameters in conv1.named_parameters():\n",
    "    print(name, ':', parameters.size())"
   ]
  },
  {
   "cell_type": "markdown",
   "metadata": {},
   "source": [
    "### 例子2：PyTorch卷积层(padding=0)"
   ]
  },
  {
   "cell_type": "code",
   "execution_count": 111,
   "metadata": {},
   "outputs": [
    {
     "name": "stdout",
     "output_type": "stream",
     "text": [
      "Size of Input is torch.Size([1, 1, 28, 28])\n",
      "Size of Conv1 Output is torch.Size([1, 5, 26, 26])\n",
      "The Number of Conv1 is 2 \n",
      "weight : torch.Size([5, 1, 3, 3])\n",
      "bias : torch.Size([5])\n"
     ]
    }
   ],
   "source": [
    "# Convolution Example 2(padding=0):\n",
    "\n",
    "import torch.nn as nn\n",
    "input = torch.randn(1,1,28,28) # (BatchSize, NumChannels, Height, Width)\n",
    "conv1 = nn.Conv2d(in_channels=1, out_channels=5, kernel_size=3, padding=0, stride=1, bias=True)\n",
    "output_conv1 = conv1(input)\n",
    "\n",
    "print(\"Size of Input is\", input.shape)\n",
    "print(\"Size of Conv1 Output is\",output_conv1.shape)\n",
    "\n",
    "params = list(conv1.parameters())\n",
    "print(\"Parameter Number of Conv1 is %d \" % len(params))\n",
    "\n",
    "for name, parameters in conv1.named_parameters():\n",
    "    print(name, ':', parameters.size())"
   ]
  },
  {
   "cell_type": "markdown",
   "metadata": {},
   "source": [
    "### 例子3：PyTorch卷积层(stride=2)"
   ]
  },
  {
   "cell_type": "code",
   "execution_count": 112,
   "metadata": {},
   "outputs": [
    {
     "name": "stdout",
     "output_type": "stream",
     "text": [
      "Size of Input is torch.Size([1, 1, 28, 28])\n",
      "Size of Conv1 Output is torch.Size([1, 5, 14, 14])\n",
      "The Number of Conv1 is 2 \n",
      "weight : torch.Size([5, 1, 3, 3])\n",
      "bias : torch.Size([5])\n"
     ]
    }
   ],
   "source": [
    "# Convolution Example 3(stride=2):\n",
    "\n",
    "import torch.nn as nn\n",
    "input = torch.randn(1,1,28,28) # (BatchSize, NumChannels, Height, Width)\n",
    "conv1 = nn.Conv2d(in_channels=1, out_channels=5, kernel_size=3, padding=1, stride=2, bias=True)\n",
    "output_conv1 = conv1(input)\n",
    "\n",
    "print(\"Size of Input is\", input.shape)\n",
    "print(\"Size of Conv1 Output is\",output_conv1.shape)\n",
    "\n",
    "params = list(conv1.parameters())\n",
    "print(\"Parameter Number of Conv1 is %d \" % len(params))\n",
    "\n",
    "for name, parameters in conv1.named_parameters():\n",
    "    print(name, ':', parameters.size())"
   ]
  },
  {
   "cell_type": "markdown",
   "metadata": {},
   "source": [
    "### 例子4：PyTorch卷积层(bias=False):"
   ]
  },
  {
   "cell_type": "code",
   "execution_count": 113,
   "metadata": {},
   "outputs": [
    {
     "name": "stdout",
     "output_type": "stream",
     "text": [
      "Size of Input is torch.Size([1, 1, 28, 28])\n",
      "Size of Conv1 Output is torch.Size([1, 5, 14, 14])\n",
      "The Number of Conv1 is 1 \n",
      "weight : torch.Size([5, 1, 3, 3])\n"
     ]
    }
   ],
   "source": [
    "# Convolution Example 4(bias=False):\n",
    "\n",
    "input = torch.randn(1,1,28,28) # (BatchSize, NumChannels, Height, Width)\n",
    "conv1 = nn.Conv2d(in_channels=1, out_channels=5, kernel_size=3, padding=1, stride=2, bias=False)\n",
    "output_conv1 = conv1(input)\n",
    "\n",
    "print(\"Size of Input is\", input.shape)\n",
    "print(\"Size of Conv1 Output is\",output_conv1.shape)\n",
    "\n",
    "params = list(conv1.parameters())\n",
    "print(\"Parameter Number of Conv1 is %d \" % len(params))\n",
    "\n",
    "for name, parameters in conv1.named_parameters():\n",
    "    print(name, ':', parameters.size())"
   ]
  },
  {
   "cell_type": "markdown",
   "metadata": {},
   "source": [
    "### 例子5：PyTorch卷积层(in_channels=3):"
   ]
  },
  {
   "cell_type": "code",
   "execution_count": 114,
   "metadata": {},
   "outputs": [
    {
     "name": "stdout",
     "output_type": "stream",
     "text": [
      "Size of Input is torch.Size([1, 3, 28, 28])\n",
      "Size of Conv1 Output is torch.Size([1, 5, 28, 28])\n",
      "The Number of Conv1 is 2 \n",
      "weight : torch.Size([5, 3, 3, 3])\n",
      "bias : torch.Size([5])\n"
     ]
    }
   ],
   "source": [
    "# Convolution Example 5(in_channels=3):\n",
    "\n",
    "input = torch.randn(1,3,28,28) # (BatchSize, NumChannels, Height, Width)\n",
    "conv1 = nn.Conv2d(in_channels=3, out_channels=5, kernel_size=3, padding=1, stride=1, bias=True)\n",
    "output_conv1 = conv1(input)\n",
    "\n",
    "print(\"Size of Input is\", input.shape)\n",
    "print(\"Size of Conv1 Output is\",output_conv1.shape)\n",
    "\n",
    "params = list(conv1.parameters())\n",
    "print(\"Parameter Number of Conv1 is %d \" % len(params))\n",
    "\n",
    "for name, parameters in conv1.named_parameters():\n",
    "    print(name, ':', parameters.size())"
   ]
  },
  {
   "cell_type": "markdown",
   "metadata": {},
   "source": [
    "### 例子6：PyTorch卷积层(BatchSize=10):"
   ]
  },
  {
   "cell_type": "code",
   "execution_count": 116,
   "metadata": {},
   "outputs": [
    {
     "name": "stdout",
     "output_type": "stream",
     "text": [
      "Size of Input is torch.Size([10, 1, 28, 28])\n",
      "Size of Conv1 Output is torch.Size([10, 5, 28, 28])\n",
      "The Number of Conv1 is 2 \n",
      "weight : torch.Size([5, 1, 3, 3])\n",
      "bias : torch.Size([5])\n"
     ]
    }
   ],
   "source": [
    "# Convolution Example 6(BatchSize=10):\n",
    "\n",
    "input = torch.randn(10,1,28,28) # (BatchSize, NumChannels, Height, Width)\n",
    "conv1 = nn.Conv2d(in_channels=1, out_channels=5, kernel_size=3, padding=1, stride=1, bias=True)\n",
    "output_conv1 = conv1(input)\n",
    "\n",
    "print(\"Size of Input is\", input.shape)\n",
    "print(\"Size of Conv1 Output is\",output_conv1.shape)\n",
    "\n",
    "params = list(conv1.parameters())\n",
    "print(\"Parameter Number of Conv1 is %d \" % len(params))\n",
    "\n",
    "for name, parameters in conv1.named_parameters():\n",
    "    print(name, ':', parameters.size())"
   ]
  },
  {
   "cell_type": "markdown",
   "metadata": {},
   "source": [
    "### 例子7：输出神经网络的中间结果"
   ]
  },
  {
   "cell_type": "code",
   "execution_count": 96,
   "metadata": {},
   "outputs": [
    {
     "name": "stdout",
     "output_type": "stream",
     "text": [
      "torch.Size([1, 10])\n",
      "torch.Size([1, 16, 28, 28])\n",
      "torch.Size([1, 16, 14, 14])\n",
      "torch.Size([1, 32, 14, 14])\n",
      "torch.Size([1, 32, 7, 7])\n",
      "torch.Size([1, 1568])\n"
     ]
    }
   ],
   "source": [
    "class CNN(nn.Module):\n",
    "    def __init__(self):\n",
    "        super(CNN, self).__init__()\n",
    "        self.conv1 = nn.Conv2d(in_channels=1, out_channels=16, kernel_size=5, stride=1, padding=2)\n",
    "        self.conv2 = nn.Conv2d(16, 32, 5, 1, 2)\n",
    "        self.out = nn.Linear(32 * 7 * 7, 10)\n",
    "\n",
    "    def forward(self, x):\n",
    "        x1 = self.conv1(x)\n",
    "        x1 = F.relu(x1)\n",
    "        x2 = F.max_pool2d(x1, (2,2))\n",
    "        x3 = self.conv2(x2)\n",
    "        x3 = F.relu(x3)\n",
    "        x4 = F.max_pool2d(x3, (2,2))\n",
    "        x5 = x4.view(x4.size(0), -1)\n",
    "       \n",
    "        output = self.out(x5)\n",
    "        return [output, x1, x2, x3, x4, x5]\n",
    "\n",
    "cnn = CNN()\n",
    "\n",
    "\n",
    "input = torch.randn(1,1,28,28)\n",
    "out, xx1, xx2, xx3, xx4, xx5 = cnn(input)\n",
    "print(out.shape)\n",
    "print(xx1.shape)\n",
    "print(xx2.shape)\n",
    "print(xx3.shape)\n",
    "print(xx4.shape)\n",
    "print(xx5.shape)"
   ]
  },
  {
   "cell_type": "markdown",
   "metadata": {},
   "source": [
    "## 理解全连接"
   ]
  },
  {
   "cell_type": "markdown",
   "metadata": {},
   "source": [
    "### 例子1：全连接网络例子"
   ]
  },
  {
   "cell_type": "code",
   "execution_count": 125,
   "metadata": {},
   "outputs": [
    {
     "name": "stdout",
     "output_type": "stream",
     "text": [
      "Size of Input is torch.Size([10, 100])\n",
      "Size of fc1 Output is torch.Size([10, 200])\n",
      "The Number of fc1 is 2 \n",
      "weight : torch.Size([200, 100])\n",
      "bias : torch.Size([200])\n"
     ]
    }
   ],
   "source": [
    "import torch.nn as nn\n",
    "input = torch.randn(10,100) # (BatchSize, length)\n",
    "fc1 = nn.Linear(100, 200)\n",
    "output_fc1 = fc1(input)\n",
    "\n",
    "print(\"Size of Input is\", input.shape)\n",
    "print(\"Size of fc1 Output is\", output_fc1.shape)\n",
    "\n",
    "params = list(fc1.parameters())\n",
    "print(\"Parameter Number of fc1 is %d \" % len(params))\n",
    "\n",
    "for name, parameters in fc1.named_parameters():\n",
    "    print(name, ':', parameters.size())"
   ]
  },
  {
   "cell_type": "markdown",
   "metadata": {},
   "source": [
    "### 例子2：全连接网络例子(bias=False)"
   ]
  },
  {
   "cell_type": "code",
   "execution_count": 2,
   "metadata": {},
   "outputs": [
    {
     "name": "stdout",
     "output_type": "stream",
     "text": [
      "Size of Input is torch.Size([10, 100])\n",
      "Size of fc1 Output is torch.Size([10, 200])\n",
      "Parameter Number of fc1 is 1 \n",
      "weight : torch.Size([200, 100])\n"
     ]
    }
   ],
   "source": [
    "import torch\n",
    "import torch.nn as nn\n",
    "input = torch.randn(10,100) # (BatchSize, length)\n",
    "fc1 = nn.Linear(100, 200, bias=False)\n",
    "output_fc1 = fc1(input)\n",
    "\n",
    "print(\"Size of Input is\", input.shape)\n",
    "print(\"Size of fc1 Output is\", output_fc1.shape)\n",
    "\n",
    "params = list(fc1.parameters())\n",
    "print(\"Parameter Number of fc1 is %d \" % len(params))\n",
    "\n",
    "for name, parameters in fc1.named_parameters():\n",
    "    print(name, ':', parameters.size())"
   ]
  },
  {
   "cell_type": "code",
   "execution_count": null,
   "metadata": {},
   "outputs": [],
   "source": []
  }
 ],
 "metadata": {
  "kernelspec": {
   "display_name": "Python 3",
   "language": "python",
   "name": "python3"
  },
  "language_info": {
   "codemirror_mode": {
    "name": "ipython",
    "version": 3
   },
   "file_extension": ".py",
   "mimetype": "text/x-python",
   "name": "python",
   "nbconvert_exporter": "python",
   "pygments_lexer": "ipython3",
   "version": "3.8.5"
  }
 },
 "nbformat": 4,
 "nbformat_minor": 2
}
